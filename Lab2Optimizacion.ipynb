{
  "nbformat": 4,
  "nbformat_minor": 0,
  "metadata": {
    "colab": {
      "provenance": []
    },
    "kernelspec": {
      "name": "python3",
      "display_name": "Python 3"
    },
    "language_info": {
      "name": "python"
    }
  },
  "cells": [
    {
      "cell_type": "markdown",
      "source": [
        "Laboratorio #2 \\\\\n",
        "David Hernández, María Solá, Kevin Torregrosa"
      ],
      "metadata": {
        "id": "JV7pp-xhL6be"
      }
    },
    {
      "cell_type": "code",
      "source": [
        "import pandas as pd\n",
        "import seaborn as sns\n",
        "from sklearn.metrics import mean_squared_error, r2_score\n",
        "import matplotlib.pyplot as plt\n",
        "import numpy as np\n",
        "from sklearn.preprocessing import StandardScaler\n",
        "from sklearn.metrics import mean_absolute_error, mean_squared_error, r2_score\n",
        "import joblib\n",
        "from sklearn.linear_model import LinearRegression\n",
        "from sklearn.model_selection import train_test_split\n",
        "from sklearn.linear_model import LinearRegression\n",
        "from sklearn.ensemble import RandomForestRegressor\n",
        "from sklearn.svm import SVR\n",
        "from sklearn.tree import DecisionTreeRegressor\n",
        "from sklearn.neighbors import KNeighborsRegressor\n",
        "from xgboost import XGBRegressor\n",
        "from sklearn.linear_model import Lasso"
      ],
      "metadata": {
        "id": "0rxZRaRrQadr"
      },
      "execution_count": 25,
      "outputs": []
    },
    {
      "cell_type": "markdown",
      "source": [
        "# 1.Elección de Dataset"
      ],
      "metadata": {
        "id": "tVHruF1aZj1b"
      }
    },
    {
      "cell_type": "markdown",
      "source": [
        "Advertising Budget and Sales"
      ],
      "metadata": {
        "id": "CBTUWO4ueW8c"
      }
    },
    {
      "cell_type": "markdown",
      "source": [
        "https://www.kaggle.com/datasets/yasserh/advertising-sales-dataset/data"
      ],
      "metadata": {
        "id": "7nhLvTgweVg7"
      }
    },
    {
      "cell_type": "code",
      "source": [
        "path = \"Advertising Budget and Sales.csv\"\n",
        "df = pd.read_csv(path)\n",
        "\n",
        "# Display the first few rows\n",
        "df.head()"
      ],
      "metadata": {
        "colab": {
          "base_uri": "https://localhost:8080/",
          "height": 206
        },
        "id": "XKPUEdvIRbQU",
        "outputId": "546d80be-7ac3-4f0f-e4f7-914ed02bf94d"
      },
      "execution_count": 26,
      "outputs": [
        {
          "output_type": "execute_result",
          "data": {
            "text/plain": [
              "   Unnamed: 0  TV Ad Budget ($)  Radio Ad Budget ($)  Newspaper Ad Budget ($)  \\\n",
              "0           1             230.1                 37.8                     69.2   \n",
              "1           2              44.5                 39.3                     45.1   \n",
              "2           3              17.2                 45.9                     69.3   \n",
              "3           4             151.5                 41.3                     58.5   \n",
              "4           5             180.8                 10.8                     58.4   \n",
              "\n",
              "   Sales ($)  \n",
              "0       22.1  \n",
              "1       10.4  \n",
              "2        9.3  \n",
              "3       18.5  \n",
              "4       12.9  "
            ],
            "text/html": [
              "\n",
              "  <div id=\"df-3b9f21de-55ef-4ab9-9461-f2fb69e4b949\" class=\"colab-df-container\">\n",
              "    <div>\n",
              "<style scoped>\n",
              "    .dataframe tbody tr th:only-of-type {\n",
              "        vertical-align: middle;\n",
              "    }\n",
              "\n",
              "    .dataframe tbody tr th {\n",
              "        vertical-align: top;\n",
              "    }\n",
              "\n",
              "    .dataframe thead th {\n",
              "        text-align: right;\n",
              "    }\n",
              "</style>\n",
              "<table border=\"1\" class=\"dataframe\">\n",
              "  <thead>\n",
              "    <tr style=\"text-align: right;\">\n",
              "      <th></th>\n",
              "      <th>Unnamed: 0</th>\n",
              "      <th>TV Ad Budget ($)</th>\n",
              "      <th>Radio Ad Budget ($)</th>\n",
              "      <th>Newspaper Ad Budget ($)</th>\n",
              "      <th>Sales ($)</th>\n",
              "    </tr>\n",
              "  </thead>\n",
              "  <tbody>\n",
              "    <tr>\n",
              "      <th>0</th>\n",
              "      <td>1</td>\n",
              "      <td>230.1</td>\n",
              "      <td>37.8</td>\n",
              "      <td>69.2</td>\n",
              "      <td>22.1</td>\n",
              "    </tr>\n",
              "    <tr>\n",
              "      <th>1</th>\n",
              "      <td>2</td>\n",
              "      <td>44.5</td>\n",
              "      <td>39.3</td>\n",
              "      <td>45.1</td>\n",
              "      <td>10.4</td>\n",
              "    </tr>\n",
              "    <tr>\n",
              "      <th>2</th>\n",
              "      <td>3</td>\n",
              "      <td>17.2</td>\n",
              "      <td>45.9</td>\n",
              "      <td>69.3</td>\n",
              "      <td>9.3</td>\n",
              "    </tr>\n",
              "    <tr>\n",
              "      <th>3</th>\n",
              "      <td>4</td>\n",
              "      <td>151.5</td>\n",
              "      <td>41.3</td>\n",
              "      <td>58.5</td>\n",
              "      <td>18.5</td>\n",
              "    </tr>\n",
              "    <tr>\n",
              "      <th>4</th>\n",
              "      <td>5</td>\n",
              "      <td>180.8</td>\n",
              "      <td>10.8</td>\n",
              "      <td>58.4</td>\n",
              "      <td>12.9</td>\n",
              "    </tr>\n",
              "  </tbody>\n",
              "</table>\n",
              "</div>\n",
              "    <div class=\"colab-df-buttons\">\n",
              "\n",
              "  <div class=\"colab-df-container\">\n",
              "    <button class=\"colab-df-convert\" onclick=\"convertToInteractive('df-3b9f21de-55ef-4ab9-9461-f2fb69e4b949')\"\n",
              "            title=\"Convert this dataframe to an interactive table.\"\n",
              "            style=\"display:none;\">\n",
              "\n",
              "  <svg xmlns=\"http://www.w3.org/2000/svg\" height=\"24px\" viewBox=\"0 -960 960 960\">\n",
              "    <path d=\"M120-120v-720h720v720H120Zm60-500h600v-160H180v160Zm220 220h160v-160H400v160Zm0 220h160v-160H400v160ZM180-400h160v-160H180v160Zm440 0h160v-160H620v160ZM180-180h160v-160H180v160Zm440 0h160v-160H620v160Z\"/>\n",
              "  </svg>\n",
              "    </button>\n",
              "\n",
              "  <style>\n",
              "    .colab-df-container {\n",
              "      display:flex;\n",
              "      gap: 12px;\n",
              "    }\n",
              "\n",
              "    .colab-df-convert {\n",
              "      background-color: #E8F0FE;\n",
              "      border: none;\n",
              "      border-radius: 50%;\n",
              "      cursor: pointer;\n",
              "      display: none;\n",
              "      fill: #1967D2;\n",
              "      height: 32px;\n",
              "      padding: 0 0 0 0;\n",
              "      width: 32px;\n",
              "    }\n",
              "\n",
              "    .colab-df-convert:hover {\n",
              "      background-color: #E2EBFA;\n",
              "      box-shadow: 0px 1px 2px rgba(60, 64, 67, 0.3), 0px 1px 3px 1px rgba(60, 64, 67, 0.15);\n",
              "      fill: #174EA6;\n",
              "    }\n",
              "\n",
              "    .colab-df-buttons div {\n",
              "      margin-bottom: 4px;\n",
              "    }\n",
              "\n",
              "    [theme=dark] .colab-df-convert {\n",
              "      background-color: #3B4455;\n",
              "      fill: #D2E3FC;\n",
              "    }\n",
              "\n",
              "    [theme=dark] .colab-df-convert:hover {\n",
              "      background-color: #434B5C;\n",
              "      box-shadow: 0px 1px 3px 1px rgba(0, 0, 0, 0.15);\n",
              "      filter: drop-shadow(0px 1px 2px rgba(0, 0, 0, 0.3));\n",
              "      fill: #FFFFFF;\n",
              "    }\n",
              "  </style>\n",
              "\n",
              "    <script>\n",
              "      const buttonEl =\n",
              "        document.querySelector('#df-3b9f21de-55ef-4ab9-9461-f2fb69e4b949 button.colab-df-convert');\n",
              "      buttonEl.style.display =\n",
              "        google.colab.kernel.accessAllowed ? 'block' : 'none';\n",
              "\n",
              "      async function convertToInteractive(key) {\n",
              "        const element = document.querySelector('#df-3b9f21de-55ef-4ab9-9461-f2fb69e4b949');\n",
              "        const dataTable =\n",
              "          await google.colab.kernel.invokeFunction('convertToInteractive',\n",
              "                                                    [key], {});\n",
              "        if (!dataTable) return;\n",
              "\n",
              "        const docLinkHtml = 'Like what you see? Visit the ' +\n",
              "          '<a target=\"_blank\" href=https://colab.research.google.com/notebooks/data_table.ipynb>data table notebook</a>'\n",
              "          + ' to learn more about interactive tables.';\n",
              "        element.innerHTML = '';\n",
              "        dataTable['output_type'] = 'display_data';\n",
              "        await google.colab.output.renderOutput(dataTable, element);\n",
              "        const docLink = document.createElement('div');\n",
              "        docLink.innerHTML = docLinkHtml;\n",
              "        element.appendChild(docLink);\n",
              "      }\n",
              "    </script>\n",
              "  </div>\n",
              "\n",
              "\n",
              "<div id=\"df-a79ad06a-99ac-401d-b1b3-79f03348d190\">\n",
              "  <button class=\"colab-df-quickchart\" onclick=\"quickchart('df-a79ad06a-99ac-401d-b1b3-79f03348d190')\"\n",
              "            title=\"Suggest charts\"\n",
              "            style=\"display:none;\">\n",
              "\n",
              "<svg xmlns=\"http://www.w3.org/2000/svg\" height=\"24px\"viewBox=\"0 0 24 24\"\n",
              "     width=\"24px\">\n",
              "    <g>\n",
              "        <path d=\"M19 3H5c-1.1 0-2 .9-2 2v14c0 1.1.9 2 2 2h14c1.1 0 2-.9 2-2V5c0-1.1-.9-2-2-2zM9 17H7v-7h2v7zm4 0h-2V7h2v10zm4 0h-2v-4h2v4z\"/>\n",
              "    </g>\n",
              "</svg>\n",
              "  </button>\n",
              "\n",
              "<style>\n",
              "  .colab-df-quickchart {\n",
              "      --bg-color: #E8F0FE;\n",
              "      --fill-color: #1967D2;\n",
              "      --hover-bg-color: #E2EBFA;\n",
              "      --hover-fill-color: #174EA6;\n",
              "      --disabled-fill-color: #AAA;\n",
              "      --disabled-bg-color: #DDD;\n",
              "  }\n",
              "\n",
              "  [theme=dark] .colab-df-quickchart {\n",
              "      --bg-color: #3B4455;\n",
              "      --fill-color: #D2E3FC;\n",
              "      --hover-bg-color: #434B5C;\n",
              "      --hover-fill-color: #FFFFFF;\n",
              "      --disabled-bg-color: #3B4455;\n",
              "      --disabled-fill-color: #666;\n",
              "  }\n",
              "\n",
              "  .colab-df-quickchart {\n",
              "    background-color: var(--bg-color);\n",
              "    border: none;\n",
              "    border-radius: 50%;\n",
              "    cursor: pointer;\n",
              "    display: none;\n",
              "    fill: var(--fill-color);\n",
              "    height: 32px;\n",
              "    padding: 0;\n",
              "    width: 32px;\n",
              "  }\n",
              "\n",
              "  .colab-df-quickchart:hover {\n",
              "    background-color: var(--hover-bg-color);\n",
              "    box-shadow: 0 1px 2px rgba(60, 64, 67, 0.3), 0 1px 3px 1px rgba(60, 64, 67, 0.15);\n",
              "    fill: var(--button-hover-fill-color);\n",
              "  }\n",
              "\n",
              "  .colab-df-quickchart-complete:disabled,\n",
              "  .colab-df-quickchart-complete:disabled:hover {\n",
              "    background-color: var(--disabled-bg-color);\n",
              "    fill: var(--disabled-fill-color);\n",
              "    box-shadow: none;\n",
              "  }\n",
              "\n",
              "  .colab-df-spinner {\n",
              "    border: 2px solid var(--fill-color);\n",
              "    border-color: transparent;\n",
              "    border-bottom-color: var(--fill-color);\n",
              "    animation:\n",
              "      spin 1s steps(1) infinite;\n",
              "  }\n",
              "\n",
              "  @keyframes spin {\n",
              "    0% {\n",
              "      border-color: transparent;\n",
              "      border-bottom-color: var(--fill-color);\n",
              "      border-left-color: var(--fill-color);\n",
              "    }\n",
              "    20% {\n",
              "      border-color: transparent;\n",
              "      border-left-color: var(--fill-color);\n",
              "      border-top-color: var(--fill-color);\n",
              "    }\n",
              "    30% {\n",
              "      border-color: transparent;\n",
              "      border-left-color: var(--fill-color);\n",
              "      border-top-color: var(--fill-color);\n",
              "      border-right-color: var(--fill-color);\n",
              "    }\n",
              "    40% {\n",
              "      border-color: transparent;\n",
              "      border-right-color: var(--fill-color);\n",
              "      border-top-color: var(--fill-color);\n",
              "    }\n",
              "    60% {\n",
              "      border-color: transparent;\n",
              "      border-right-color: var(--fill-color);\n",
              "    }\n",
              "    80% {\n",
              "      border-color: transparent;\n",
              "      border-right-color: var(--fill-color);\n",
              "      border-bottom-color: var(--fill-color);\n",
              "    }\n",
              "    90% {\n",
              "      border-color: transparent;\n",
              "      border-bottom-color: var(--fill-color);\n",
              "    }\n",
              "  }\n",
              "</style>\n",
              "\n",
              "  <script>\n",
              "    async function quickchart(key) {\n",
              "      const quickchartButtonEl =\n",
              "        document.querySelector('#' + key + ' button');\n",
              "      quickchartButtonEl.disabled = true;  // To prevent multiple clicks.\n",
              "      quickchartButtonEl.classList.add('colab-df-spinner');\n",
              "      try {\n",
              "        const charts = await google.colab.kernel.invokeFunction(\n",
              "            'suggestCharts', [key], {});\n",
              "      } catch (error) {\n",
              "        console.error('Error during call to suggestCharts:', error);\n",
              "      }\n",
              "      quickchartButtonEl.classList.remove('colab-df-spinner');\n",
              "      quickchartButtonEl.classList.add('colab-df-quickchart-complete');\n",
              "    }\n",
              "    (() => {\n",
              "      let quickchartButtonEl =\n",
              "        document.querySelector('#df-a79ad06a-99ac-401d-b1b3-79f03348d190 button');\n",
              "      quickchartButtonEl.style.display =\n",
              "        google.colab.kernel.accessAllowed ? 'block' : 'none';\n",
              "    })();\n",
              "  </script>\n",
              "</div>\n",
              "\n",
              "    </div>\n",
              "  </div>\n"
            ],
            "application/vnd.google.colaboratory.intrinsic+json": {
              "type": "dataframe",
              "variable_name": "df",
              "summary": "{\n  \"name\": \"df\",\n  \"rows\": 200,\n  \"fields\": [\n    {\n      \"column\": \"Unnamed: 0\",\n      \"properties\": {\n        \"dtype\": \"number\",\n        \"std\": 57,\n        \"min\": 1,\n        \"max\": 200,\n        \"num_unique_values\": 200,\n        \"samples\": [\n          96,\n          16,\n          31\n        ],\n        \"semantic_type\": \"\",\n        \"description\": \"\"\n      }\n    },\n    {\n      \"column\": \"TV Ad Budget ($)\",\n      \"properties\": {\n        \"dtype\": \"number\",\n        \"std\": 85.8542363149081,\n        \"min\": 0.7,\n        \"max\": 296.4,\n        \"num_unique_values\": 190,\n        \"samples\": [\n          287.6,\n          286.0,\n          78.2\n        ],\n        \"semantic_type\": \"\",\n        \"description\": \"\"\n      }\n    },\n    {\n      \"column\": \"Radio Ad Budget ($)\",\n      \"properties\": {\n        \"dtype\": \"number\",\n        \"std\": 14.846809176168723,\n        \"min\": 0.0,\n        \"max\": 49.6,\n        \"num_unique_values\": 167,\n        \"samples\": [\n          8.2,\n          36.9,\n          44.5\n        ],\n        \"semantic_type\": \"\",\n        \"description\": \"\"\n      }\n    },\n    {\n      \"column\": \"Newspaper Ad Budget ($)\",\n      \"properties\": {\n        \"dtype\": \"number\",\n        \"std\": 21.778620838522833,\n        \"min\": 0.3,\n        \"max\": 114.0,\n        \"num_unique_values\": 172,\n        \"samples\": [\n          22.3,\n          5.7,\n          17.0\n        ],\n        \"semantic_type\": \"\",\n        \"description\": \"\"\n      }\n    },\n    {\n      \"column\": \"Sales ($)\",\n      \"properties\": {\n        \"dtype\": \"number\",\n        \"std\": 5.217456565710477,\n        \"min\": 1.6,\n        \"max\": 27.0,\n        \"num_unique_values\": 121,\n        \"samples\": [\n          11.4,\n          21.2,\n          12.9\n        ],\n        \"semantic_type\": \"\",\n        \"description\": \"\"\n      }\n    }\n  ]\n}"
            }
          },
          "metadata": {},
          "execution_count": 26
        }
      ]
    },
    {
      "cell_type": "code",
      "source": [
        "df.shape\n",
        "# 200 filas y 5 columnas"
      ],
      "metadata": {
        "colab": {
          "base_uri": "https://localhost:8080/"
        },
        "id": "7uC7aflTavFq",
        "outputId": "676a554b-c266-487c-9fb1-9414ca931385"
      },
      "execution_count": 27,
      "outputs": [
        {
          "output_type": "execute_result",
          "data": {
            "text/plain": [
              "(200, 5)"
            ]
          },
          "metadata": {},
          "execution_count": 27
        }
      ]
    },
    {
      "cell_type": "code",
      "source": [
        "df.isnull().sum()\n",
        "# confirmar muestras nulas"
      ],
      "metadata": {
        "colab": {
          "base_uri": "https://localhost:8080/",
          "height": 241
        },
        "id": "PMTBBOJca7B7",
        "outputId": "60e03553-8f6e-4e5a-cfcd-2f94b2caf2d0"
      },
      "execution_count": 28,
      "outputs": [
        {
          "output_type": "execute_result",
          "data": {
            "text/plain": [
              "Unnamed: 0                 0\n",
              "TV Ad Budget ($)           0\n",
              "Radio Ad Budget ($)        0\n",
              "Newspaper Ad Budget ($)    0\n",
              "Sales ($)                  0\n",
              "dtype: int64"
            ],
            "text/html": [
              "<div>\n",
              "<style scoped>\n",
              "    .dataframe tbody tr th:only-of-type {\n",
              "        vertical-align: middle;\n",
              "    }\n",
              "\n",
              "    .dataframe tbody tr th {\n",
              "        vertical-align: top;\n",
              "    }\n",
              "\n",
              "    .dataframe thead th {\n",
              "        text-align: right;\n",
              "    }\n",
              "</style>\n",
              "<table border=\"1\" class=\"dataframe\">\n",
              "  <thead>\n",
              "    <tr style=\"text-align: right;\">\n",
              "      <th></th>\n",
              "      <th>0</th>\n",
              "    </tr>\n",
              "  </thead>\n",
              "  <tbody>\n",
              "    <tr>\n",
              "      <th>Unnamed: 0</th>\n",
              "      <td>0</td>\n",
              "    </tr>\n",
              "    <tr>\n",
              "      <th>TV Ad Budget ($)</th>\n",
              "      <td>0</td>\n",
              "    </tr>\n",
              "    <tr>\n",
              "      <th>Radio Ad Budget ($)</th>\n",
              "      <td>0</td>\n",
              "    </tr>\n",
              "    <tr>\n",
              "      <th>Newspaper Ad Budget ($)</th>\n",
              "      <td>0</td>\n",
              "    </tr>\n",
              "    <tr>\n",
              "      <th>Sales ($)</th>\n",
              "      <td>0</td>\n",
              "    </tr>\n",
              "  </tbody>\n",
              "</table>\n",
              "</div><br><label><b>dtype:</b> int64</label>"
            ]
          },
          "metadata": {},
          "execution_count": 28
        }
      ]
    },
    {
      "cell_type": "markdown",
      "source": [
        "# **Análisis**:\n",
        "El dataset presenta 3 variables independientes\n",
        "+ Presupuesto de Publicidad en TV (TV Ad Budget)\n",
        "+ Presupuesto de Publicidad Radial (Radio Ad Budget)\n",
        "+ Presupuesto de Publicidad en Periódicos (Newspaper Ad Budget)\n",
        "\n",
        "Estas variables buscan predecir a la variable dependiente Ventas (Sales) por medio de 200 muestras, ninguna de ellas es nula"
      ],
      "metadata": {
        "id": "8jhEf_rQaF4o"
      }
    },
    {
      "cell_type": "markdown",
      "source": [
        "# 2.Relación de características"
      ],
      "metadata": {
        "id": "k7_O55WSZnZZ"
      }
    },
    {
      "cell_type": "code",
      "source": [
        "df.columns"
      ],
      "metadata": {
        "colab": {
          "base_uri": "https://localhost:8080/"
        },
        "id": "hIZQLhQeZvD_",
        "outputId": "a9c44e49-1114-48db-c123-639712f5347e"
      },
      "execution_count": 29,
      "outputs": [
        {
          "output_type": "execute_result",
          "data": {
            "text/plain": [
              "Index(['Unnamed: 0', 'TV Ad Budget ($)', 'Radio Ad Budget ($)',\n",
              "       'Newspaper Ad Budget ($)', 'Sales ($)'],\n",
              "      dtype='object')"
            ]
          },
          "metadata": {},
          "execution_count": 29
        }
      ]
    },
    {
      "cell_type": "code",
      "source": [
        "# Análisis Bivariado\n",
        "#advertising_features = ['TV Ad Budget ($)', 'Radio Ad Budget ($)', 'Newspaper Ad Budget ($)']\n",
        "advertising_features = df.columns[1:-1]\n",
        "plt.figure(figsize=(15, 5))\n",
        "\n",
        "# Loop through features to create scatter plots\n",
        "for i, feature in enumerate(advertising_features, 1):\n",
        "    plt.subplot(1, 3, i)\n",
        "    sns.scatterplot(x=feature, y='Sales ($)', data=df)\n",
        "    plt.title(f'{feature} vs Sales')\n",
        "\n",
        "plt.savefig(\"Features Vs Sales\")\n",
        "plt.tight_layout()\n",
        "plt.show()"
      ],
      "metadata": {
        "colab": {
          "base_uri": "https://localhost:8080/",
          "height": 383
        },
        "id": "OhLMoWawZHd-",
        "outputId": "83ecac70-7694-4290-b7ba-cd5dd143127d"
      },
      "execution_count": 30,
      "outputs": [
        {
          "output_type": "display_data",
          "data": {
            "text/plain": [
              "<Figure size 1500x500 with 3 Axes>"
            ],
            "image/png": "[encoded data removed]"
          },
          "metadata": {}
        }
      ]
    },
    {
      "cell_type": "markdown",
      "source": [
        "**Interpretación:**\n",
        "\n",
        "Entre las primeras dos variables se pueden percibir diferentes grados de correlación lineal positiva, mientras que para la tercera díficilmente se atisba correlación.\n",
        "\n",
        "En el caso de TV la correlación es más fuerte para el primero, como evidencia la concentración de puntos donde ambas variables son bajas y altas.\n",
        "\n",
        "Para el presupuesto radial, se muestra también una tendencia de pendiente positiva, pero presenta mucha más dispersión o datos atípicos.\n",
        "\n",
        "Por último, el presupuesto de periódicos muestra casi todos los valores de ventas (tanto altos como bajos) debajo de presupuestos de 60$. Esto lleva a identificar una posible independecia entre las variables o correlación nula."
      ],
      "metadata": {
        "id": "IsOF6ctZbJgc"
      }
    },
    {
      "cell_type": "markdown",
      "source": [
        "# 3."
      ],
      "metadata": {
        "id": "gEwhRd0WcZD2"
      }
    },
    {
      "cell_type": "code",
      "source": [
        "X = df.drop(['Unnamed: 0','Sales ($)'],axis=1)  # Features\n",
        "y = df['Sales ($)']"
      ],
      "metadata": {
        "id": "tb6gw7_jncQt"
      },
      "execution_count": 31,
      "outputs": []
    },
    {
      "cell_type": "code",
      "source": [
        "X"
      ],
      "metadata": {
        "colab": {
          "base_uri": "https://localhost:8080/",
          "height": 423
        },
        "id": "L14PV0Fuveiu",
        "outputId": "6e3bcb68-2fff-4052-ab43-25e7d80a3852"
      },
      "execution_count": 32,
      "outputs": [
        {
          "output_type": "execute_result",
          "data": {
            "text/plain": [
              "     TV Ad Budget ($)  Radio Ad Budget ($)  Newspaper Ad Budget ($)\n",
              "0               230.1                 37.8                     69.2\n",
              "1                44.5                 39.3                     45.1\n",
              "2                17.2                 45.9                     69.3\n",
              "3               151.5                 41.3                     58.5\n",
              "4               180.8                 10.8                     58.4\n",
              "..                ...                  ...                      ...\n",
              "195              38.2                  3.7                     13.8\n",
              "196              94.2                  4.9                      8.1\n",
              "197             177.0                  9.3                      6.4\n",
              "198             283.6                 42.0                     66.2\n",
              "199             232.1                  8.6                      8.7\n",
              "\n",
              "[200 rows x 3 columns]"
            ],
            "text/html": [
              "\n",
              "  <div id=\"df-74bec27a-afe2-4567-b43a-73b125b1eceb\" class=\"colab-df-container\">\n",
              "    <div>\n",
              "<style scoped>\n",
              "    .dataframe tbody tr th:only-of-type {\n",
              "        vertical-align: middle;\n",
              "    }\n",
              "\n",
              "    .dataframe tbody tr th {\n",
              "        vertical-align: top;\n",
              "    }\n",
              "\n",
              "    .dataframe thead th {\n",
              "        text-align: right;\n",
              "    }\n",
              "</style>\n",
              "<table border=\"1\" class=\"dataframe\">\n",
              "  <thead>\n",
              "    <tr style=\"text-align: right;\">\n",
              "      <th></th>\n",
              "      <th>TV Ad Budget ($)</th>\n",
              "      <th>Radio Ad Budget ($)</th>\n",
              "      <th>Newspaper Ad Budget ($)</th>\n",
              "    </tr>\n",
              "  </thead>\n",
              "  <tbody>\n",
              "    <tr>\n",
              "      <th>0</th>\n",
              "      <td>230.1</td>\n",
              "      <td>37.8</td>\n",
              "      <td>69.2</td>\n",
              "    </tr>\n",
              "    <tr>\n",
              "      <th>1</th>\n",
              "      <td>44.5</td>\n",
              "      <td>39.3</td>\n",
              "      <td>45.1</td>\n",
              "    </tr>\n",
              "    <tr>\n",
              "      <th>2</th>\n",
              "      <td>17.2</td>\n",
              "      <td>45.9</td>\n",
              "      <td>69.3</td>\n",
              "    </tr>\n",
              "    <tr>\n",
              "      <th>3</th>\n",
              "      <td>151.5</td>\n",
              "      <td>41.3</td>\n",
              "      <td>58.5</td>\n",
              "    </tr>\n",
              "    <tr>\n",
              "      <th>4</th>\n",
              "      <td>180.8</td>\n",
              "      <td>10.8</td>\n",
              "      <td>58.4</td>\n",
              "    </tr>\n",
              "    <tr>\n",
              "      <th>...</th>\n",
              "      <td>...</td>\n",
              "      <td>...</td>\n",
              "      <td>...</td>\n",
              "    </tr>\n",
              "    <tr>\n",
              "      <th>195</th>\n",
              "      <td>38.2</td>\n",
              "      <td>3.7</td>\n",
              "      <td>13.8</td>\n",
              "    </tr>\n",
              "    <tr>\n",
              "      <th>196</th>\n",
              "      <td>94.2</td>\n",
              "      <td>4.9</td>\n",
              "      <td>8.1</td>\n",
              "    </tr>\n",
              "    <tr>\n",
              "      <th>197</th>\n",
              "      <td>177.0</td>\n",
              "      <td>9.3</td>\n",
              "      <td>6.4</td>\n",
              "    </tr>\n",
              "    <tr>\n",
              "      <th>198</th>\n",
              "      <td>283.6</td>\n",
              "      <td>42.0</td>\n",
              "      <td>66.2</td>\n",
              "    </tr>\n",
              "    <tr>\n",
              "      <th>199</th>\n",
              "      <td>232.1</td>\n",
              "      <td>8.6</td>\n",
              "      <td>8.7</td>\n",
              "    </tr>\n",
              "  </tbody>\n",
              "</table>\n",
              "<p>200 rows × 3 columns</p>\n",
              "</div>\n",
              "    <div class=\"colab-df-buttons\">\n",
              "\n",
              "  <div class=\"colab-df-container\">\n",
              "    <button class=\"colab-df-convert\" onclick=\"convertToInteractive('df-74bec27a-afe2-4567-b43a-73b125b1eceb')\"\n",
              "            title=\"Convert this dataframe to an interactive table.\"\n",
              "            style=\"display:none;\">\n",
              "\n",
              "  <svg xmlns=\"http://www.w3.org/2000/svg\" height=\"24px\" viewBox=\"0 -960 960 960\">\n",
              "    <path d=\"M120-120v-720h720v720H120Zm60-500h600v-160H180v160Zm220 220h160v-160H400v160Zm0 220h160v-160H400v160ZM180-400h160v-160H180v160Zm440 0h160v-160H620v160ZM180-180h160v-160H180v160Zm440 0h160v-160H620v160Z\"/>\n",
              "  </svg>\n",
              "    </button>\n",
              "\n",
              "  <style>\n",
              "    .colab-df-container {\n",
              "      display:flex;\n",
              "      gap: 12px;\n",
              "    }\n",
              "\n",
              "    .colab-df-convert {\n",
              "      background-color: #E8F0FE;\n",
              "      border: none;\n",
              "      border-radius: 50%;\n",
              "      cursor: pointer;\n",
              "      display: none;\n",
              "      fill: #1967D2;\n",
              "      height: 32px;\n",
              "      padding: 0 0 0 0;\n",
              "      width: 32px;\n",
              "    }\n",
              "\n",
              "    .colab-df-convert:hover {\n",
              "      background-color: #E2EBFA;\n",
              "      box-shadow: 0px 1px 2px rgba(60, 64, 67, 0.3), 0px 1px 3px 1px rgba(60, 64, 67, 0.15);\n",
              "      fill: #174EA6;\n",
              "    }\n",
              "\n",
              "    .colab-df-buttons div {\n",
              "      margin-bottom: 4px;\n",
              "    }\n",
              "\n",
              "    [theme=dark] .colab-df-convert {\n",
              "      background-color: #3B4455;\n",
              "      fill: #D2E3FC;\n",
              "    }\n",
              "\n",
              "    [theme=dark] .colab-df-convert:hover {\n",
              "      background-color: #434B5C;\n",
              "      box-shadow: 0px 1px 3px 1px rgba(0, 0, 0, 0.15);\n",
              "      filter: drop-shadow(0px 1px 2px rgba(0, 0, 0, 0.3));\n",
              "      fill: #FFFFFF;\n",
              "    }\n",
              "  </style>\n",
              "\n",
              "    <script>\n",
              "      const buttonEl =\n",
              "        document.querySelector('#df-74bec27a-afe2-4567-b43a-73b125b1eceb button.colab-df-convert');\n",
              "      buttonEl.style.display =\n",
              "        google.colab.kernel.accessAllowed ? 'block' : 'none';\n",
              "\n",
              "      async function convertToInteractive(key) {\n",
              "        const element = document.querySelector('#df-74bec27a-afe2-4567-b43a-73b125b1eceb');\n",
              "        const dataTable =\n",
              "          await google.colab.kernel.invokeFunction('convertToInteractive',\n",
              "                                                    [key], {});\n",
              "        if (!dataTable) return;\n",
              "\n",
              "        const docLinkHtml = 'Like what you see? Visit the ' +\n",
              "          '<a target=\"_blank\" href=https://colab.research.google.com/notebooks/data_table.ipynb>data table notebook</a>'\n",
              "          + ' to learn more about interactive tables.';\n",
              "        element.innerHTML = '';\n",
              "        dataTable['output_type'] = 'display_data';\n",
              "        await google.colab.output.renderOutput(dataTable, element);\n",
              "        const docLink = document.createElement('div');\n",
              "        docLink.innerHTML = docLinkHtml;\n",
              "        element.appendChild(docLink);\n",
              "      }\n",
              "    </script>\n",
              "  </div>\n",
              "\n",
              "\n",
              "<div id=\"df-93ebbed0-64f2-498b-beb6-1d985689d3ec\">\n",
              "  <button class=\"colab-df-quickchart\" onclick=\"quickchart('df-93ebbed0-64f2-498b-beb6-1d985689d3ec')\"\n",
              "            title=\"Suggest charts\"\n",
              "            style=\"display:none;\">\n",
              "\n",
              "<svg xmlns=\"http://www.w3.org/2000/svg\" height=\"24px\"viewBox=\"0 0 24 24\"\n",
              "     width=\"24px\">\n",
              "    <g>\n",
              "        <path d=\"M19 3H5c-1.1 0-2 .9-2 2v14c0 1.1.9 2 2 2h14c1.1 0 2-.9 2-2V5c0-1.1-.9-2-2-2zM9 17H7v-7h2v7zm4 0h-2V7h2v10zm4 0h-2v-4h2v4z\"/>\n",
              "    </g>\n",
              "</svg>\n",
              "  </button>\n",
              "\n",
              "<style>\n",
              "  .colab-df-quickchart {\n",
              "      --bg-color: #E8F0FE;\n",
              "      --fill-color: #1967D2;\n",
              "      --hover-bg-color: #E2EBFA;\n",
              "      --hover-fill-color: #174EA6;\n",
              "      --disabled-fill-color: #AAA;\n",
              "      --disabled-bg-color: #DDD;\n",
              "  }\n",
              "\n",
              "  [theme=dark] .colab-df-quickchart {\n",
              "      --bg-color: #3B4455;\n",
              "      --fill-color: #D2E3FC;\n",
              "      --hover-bg-color: #434B5C;\n",
              "      --hover-fill-color: #FFFFFF;\n",
              "      --disabled-bg-color: #3B4455;\n",
              "      --disabled-fill-color: #666;\n",
              "  }\n",
              "\n",
              "  .colab-df-quickchart {\n",
              "    background-color: var(--bg-color);\n",
              "    border: none;\n",
              "    border-radius: 50%;\n",
              "    cursor: pointer;\n",
              "    display: none;\n",
              "    fill: var(--fill-color);\n",
              "    height: 32px;\n",
              "    padding: 0;\n",
              "    width: 32px;\n",
              "  }\n",
              "\n",
              "  .colab-df-quickchart:hover {\n",
              "    background-color: var(--hover-bg-color);\n",
              "    box-shadow: 0 1px 2px rgba(60, 64, 67, 0.3), 0 1px 3px 1px rgba(60, 64, 67, 0.15);\n",
              "    fill: var(--button-hover-fill-color);\n",
              "  }\n",
              "\n",
              "  .colab-df-quickchart-complete:disabled,\n",
              "  .colab-df-quickchart-complete:disabled:hover {\n",
              "    background-color: var(--disabled-bg-color);\n",
              "    fill: var(--disabled-fill-color);\n",
              "    box-shadow: none;\n",
              "  }\n",
              "\n",
              "  .colab-df-spinner {\n",
              "    border: 2px solid var(--fill-color);\n",
              "    border-color: transparent;\n",
              "    border-bottom-color: var(--fill-color);\n",
              "    animation:\n",
              "      spin 1s steps(1) infinite;\n",
              "  }\n",
              "\n",
              "  @keyframes spin {\n",
              "    0% {\n",
              "      border-color: transparent;\n",
              "      border-bottom-color: var(--fill-color);\n",
              "      border-left-color: var(--fill-color);\n",
              "    }\n",
              "    20% {\n",
              "      border-color: transparent;\n",
              "      border-left-color: var(--fill-color);\n",
              "      border-top-color: var(--fill-color);\n",
              "    }\n",
              "    30% {\n",
              "      border-color: transparent;\n",
              "      border-left-color: var(--fill-color);\n",
              "      border-top-color: var(--fill-color);\n",
              "      border-right-color: var(--fill-color);\n",
              "    }\n",
              "    40% {\n",
              "      border-color: transparent;\n",
              "      border-right-color: var(--fill-color);\n",
              "      border-top-color: var(--fill-color);\n",
              "    }\n",
              "    60% {\n",
              "      border-color: transparent;\n",
              "      border-right-color: var(--fill-color);\n",
              "    }\n",
              "    80% {\n",
              "      border-color: transparent;\n",
              "      border-right-color: var(--fill-color);\n",
              "      border-bottom-color: var(--fill-color);\n",
              "    }\n",
              "    90% {\n",
              "      border-color: transparent;\n",
              "      border-bottom-color: var(--fill-color);\n",
              "    }\n",
              "  }\n",
              "</style>\n",
              "\n",
              "  <script>\n",
              "    async function quickchart(key) {\n",
              "      const quickchartButtonEl =\n",
              "        document.querySelector('#' + key + ' button');\n",
              "      quickchartButtonEl.disabled = true;  // To prevent multiple clicks.\n",
              "      quickchartButtonEl.classList.add('colab-df-spinner');\n",
              "      try {\n",
              "        const charts = await google.colab.kernel.invokeFunction(\n",
              "            'suggestCharts', [key], {});\n",
              "      } catch (error) {\n",
              "        console.error('Error during call to suggestCharts:', error);\n",
              "      }\n",
              "      quickchartButtonEl.classList.remove('colab-df-spinner');\n",
              "      quickchartButtonEl.classList.add('colab-df-quickchart-complete');\n",
              "    }\n",
              "    (() => {\n",
              "      let quickchartButtonEl =\n",
              "        document.querySelector('#df-93ebbed0-64f2-498b-beb6-1d985689d3ec button');\n",
              "      quickchartButtonEl.style.display =\n",
              "        google.colab.kernel.accessAllowed ? 'block' : 'none';\n",
              "    })();\n",
              "  </script>\n",
              "</div>\n",
              "\n",
              "  <div id=\"id_816ad2f6-f164-4e38-8492-103bd23b9640\">\n",
              "    <style>\n",
              "      .colab-df-generate {\n",
              "        background-color: #E8F0FE;\n",
              "        border: none;\n",
              "        border-radius: 50%;\n",
              "        cursor: pointer;\n",
              "        display: none;\n",
              "        fill: #1967D2;\n",
              "        height: 32px;\n",
              "        padding: 0 0 0 0;\n",
              "        width: 32px;\n",
              "      }\n",
              "\n",
              "      .colab-df-generate:hover {\n",
              "        background-color: #E2EBFA;\n",
              "        box-shadow: 0px 1px 2px rgba(60, 64, 67, 0.3), 0px 1px 3px 1px rgba(60, 64, 67, 0.15);\n",
              "        fill: #174EA6;\n",
              "      }\n",
              "\n",
              "      [theme=dark] .colab-df-generate {\n",
              "        background-color: #3B4455;\n",
              "        fill: #D2E3FC;\n",
              "      }\n",
              "\n",
              "      [theme=dark] .colab-df-generate:hover {\n",
              "        background-color: #434B5C;\n",
              "        box-shadow: 0px 1px 3px 1px rgba(0, 0, 0, 0.15);\n",
              "        filter: drop-shadow(0px 1px 2px rgba(0, 0, 0, 0.3));\n",
              "        fill: #FFFFFF;\n",
              "      }\n",
              "    </style>\n",
              "    <button class=\"colab-df-generate\" onclick=\"generateWithVariable('X')\"\n",
              "            title=\"Generate code using this dataframe.\"\n",
              "            style=\"display:none;\">\n",
              "\n",
              "  <svg xmlns=\"http://www.w3.org/2000/svg\" height=\"24px\"viewBox=\"0 0 24 24\"\n",
              "       width=\"24px\">\n",
              "    <path d=\"M7,19H8.4L18.45,9,17,7.55,7,17.6ZM5,21V16.75L18.45,3.32a2,2,0,0,1,2.83,0l1.4,1.43a1.91,1.91,0,0,1,.58,1.4,1.91,1.91,0,0,1-.58,1.4L9.25,21ZM18.45,9,17,7.55Zm-12,3A5.31,5.31,0,0,0,4.9,8.1,5.31,5.31,0,0,0,1,6.5,5.31,5.31,0,0,0,4.9,4.9,5.31,5.31,0,0,0,6.5,1,5.31,5.31,0,0,0,8.1,4.9,5.31,5.31,0,0,0,12,6.5,5.46,5.46,0,0,0,6.5,12Z\"/>\n",
              "  </svg>\n",
              "    </button>\n",
              "    <script>\n",
              "      (() => {\n",
              "      const buttonEl =\n",
              "        document.querySelector('#id_816ad2f6-f164-4e38-8492-103bd23b9640 button.colab-df-generate');\n",
              "      buttonEl.style.display =\n",
              "        google.colab.kernel.accessAllowed ? 'block' : 'none';\n",
              "\n",
              "      buttonEl.onclick = () => {\n",
              "        google.colab.notebook.generateWithVariable('X');\n",
              "      }\n",
              "      })();\n",
              "    </script>\n",
              "  </div>\n",
              "\n",
              "    </div>\n",
              "  </div>\n"
            ],
            "application/vnd.google.colaboratory.intrinsic+json": {
              "type": "dataframe",
              "variable_name": "X",
              "summary": "{\n  \"name\": \"X\",\n  \"rows\": 200,\n  \"fields\": [\n    {\n      \"column\": \"TV Ad Budget ($)\",\n      \"properties\": {\n        \"dtype\": \"number\",\n        \"std\": 85.8542363149081,\n        \"min\": 0.7,\n        \"max\": 296.4,\n        \"num_unique_values\": 190,\n        \"samples\": [\n          287.6,\n          286.0,\n          78.2\n        ],\n        \"semantic_type\": \"\",\n        \"description\": \"\"\n      }\n    },\n    {\n      \"column\": \"Radio Ad Budget ($)\",\n      \"properties\": {\n        \"dtype\": \"number\",\n        \"std\": 14.846809176168723,\n        \"min\": 0.0,\n        \"max\": 49.6,\n        \"num_unique_values\": 167,\n        \"samples\": [\n          8.2,\n          36.9,\n          44.5\n        ],\n        \"semantic_type\": \"\",\n        \"description\": \"\"\n      }\n    },\n    {\n      \"column\": \"Newspaper Ad Budget ($)\",\n      \"properties\": {\n        \"dtype\": \"number\",\n        \"std\": 21.778620838522833,\n        \"min\": 0.3,\n        \"max\": 114.0,\n        \"num_unique_values\": 172,\n        \"samples\": [\n          22.3,\n          5.7,\n          17.0\n        ],\n        \"semantic_type\": \"\",\n        \"description\": \"\"\n      }\n    }\n  ]\n}"
            }
          },
          "metadata": {},
          "execution_count": 32
        }
      ]
    },
    {
      "cell_type": "markdown",
      "source": [
        "## 3.1 Train vs Test\n",
        "1. 70-30\n",
        "2. 50-50\n",
        "3. 40-60"
      ],
      "metadata": {
        "id": "PhecFQ8In09f"
      }
    },
    {
      "cell_type": "code",
      "source": [
        "def evaluar_modelo(model,X_train, X_test, y_train, y_test):\n",
        "  # Predecir\n",
        "  y_train_pred = model.predict(X_train)\n",
        "  y_test_pred = model.predict(X_test)\n",
        "\n",
        "  # Calcular R^2\n",
        "  train_score = r2_score(y_train, y_train_pred)\n",
        "  test_score = r2_score(y_test, y_test_pred)\n",
        "\n",
        "  train_mse = mean_squared_error(y_train, y_train_pred)\n",
        "  test_mse = mean_squared_error(y_test, y_test_pred)\n",
        "  print(f\"R² score on training data: {train_score:.2f}\")\n",
        "  print(f\"R² score on test data: {test_score:.2f}\")\n",
        "  print(f\"MSE on training data: {train_mse:.2f}\")\n",
        "  print(f\"MSE on test data: {test_mse:.2f}\")"
      ],
      "metadata": {
        "id": "C3Z8of_Eqly_"
      },
      "execution_count": 33,
      "outputs": []
    },
    {
      "cell_type": "code",
      "source": [
        "X_train, X_test, y_train, y_test = train_test_split(X, y, train_size=0.7, random_state=42)\n",
        "model = LinearRegression().fit(X_train, y_train)\n",
        "evaluar_modelo(model,X_train, X_test, y_train, y_test)"
      ],
      "metadata": {
        "colab": {
          "base_uri": "https://localhost:8080/"
        },
        "id": "_TJKVc5Hm76Z",
        "outputId": "a24e36b9-62ea-434a-fad8-6af1fcd695bd"
      },
      "execution_count": 34,
      "outputs": [
        {
          "output_type": "stream",
          "name": "stdout",
          "text": [
            "R² score on training data: 0.91\n",
            "R² score on test data: 0.86\n",
            "MSE on training data: 2.48\n",
            "MSE on test data: 3.80\n"
          ]
        }
      ]
    },
    {
      "cell_type": "code",
      "source": [
        "X_train, X_test, y_train, y_test = train_test_split(X, y, train_size=0.5, random_state=42)\n",
        "lr = LinearRegression().fit(X_train, y_train)\n",
        "evaluar_modelo(model,X_train, X_test, y_train, y_test)"
      ],
      "metadata": {
        "colab": {
          "base_uri": "https://localhost:8080/"
        },
        "id": "CnxTHM79oOHH",
        "outputId": "09a59ce4-75da-4b34-9cca-277c3c9e78c4"
      },
      "execution_count": 35,
      "outputs": [
        {
          "output_type": "stream",
          "name": "stdout",
          "text": [
            "R² score on training data: 0.90\n",
            "R² score on test data: 0.88\n",
            "MSE on training data: 2.66\n",
            "MSE on test data: 3.09\n"
          ]
        }
      ]
    },
    {
      "cell_type": "code",
      "source": [
        "X_train, X_test, y_train, y_test = train_test_split(X, y, train_size=0.4, random_state=42)\n",
        "lr = LinearRegression().fit(X_train, y_train)\n",
        "evaluar_modelo(model,X_train, X_test, y_train, y_test)"
      ],
      "metadata": {
        "colab": {
          "base_uri": "https://localhost:8080/"
        },
        "id": "AIneAQiCoQcA",
        "outputId": "6b485548-3276-4978-f35c-2d905e34e07c"
      },
      "execution_count": 36,
      "outputs": [
        {
          "output_type": "stream",
          "name": "stdout",
          "text": [
            "R² score on training data: 0.90\n",
            "R² score on test data: 0.89\n",
            "MSE on training data: 2.95\n",
            "MSE on test data: 2.82\n"
          ]
        }
      ]
    },
    {
      "cell_type": "markdown",
      "source": [
        "¿De qué forma afecta el desempeño del modelo el usar diferentes proporciones de train/test set?"
      ],
      "metadata": {
        "id": "0oZF4aEEoWGt"
      }
    },
    {
      "cell_type": "markdown",
      "source": [
        "**Conclusión**\n",
        "\n",
        "\n",
        "1.   **70-30**:  El modelo tiene un muy buen ajuste en entrenamiento pero baja bastantes puntos (0.5) con datos nuevos (overfitting), siendo altamente preciso en entrenamiento según el MSE\n",
        "2.   **50-50**: El modelo se ajusta peor en entrenamiento en 0.1 pero mejora en 0.2 con los datos de prueba, por lo que se reduce el overfitting\n",
        "3. **40-60**: El modelo mantiene su puntaje en entrenamiento pero mejora el de prueb, teniendo además el MSE más bajo para datos de pruieba\n",
        "\n",
        "Podemos ver que reducir el porcentaje asignado a datos de entrenamiento tiene efectos positivos en reducir overfitting, como se espera cuando el modelo no se acostumbra demasiado a los ruidos y datos atípicos del entrenamiento, y puede generalizar adecuadamente.\n"
      ],
      "metadata": {
        "id": "ieaqMmNTWTKY"
      }
    },
    {
      "cell_type": "markdown",
      "source": [
        "## 3.2 Cambio de metodo de optimización"
      ],
      "metadata": {
        "id": "XZ6yZrtjoJrs"
      }
    },
    {
      "cell_type": "markdown",
      "source": [
        "Método: Gradiente descendiente estocástico, en vez de mínimos cuadrados (método usado en la regresión lineal)"
      ],
      "metadata": {
        "id": "gXY3ZKRAZF_o"
      }
    },
    {
      "cell_type": "code",
      "source": [
        "from sklearn.linear_model import SGDRegressor\n",
        "from sklearn.model_selection import train_test_split\n",
        "\n",
        "\n",
        "X_train, X_test, y_train, y_test = train_test_split(X, y, train_size=0.4, random_state=42)\n",
        "# Usar Gradiente descendiente estocástico\n",
        "model = SGDRegressor(max_iter=1000, tol=1e-5, learning_rate='optimal')  # You can also tune other hyperparameters\n",
        "\n",
        "# Fit the model\n",
        "model.fit(X_train, y_train)\n",
        "\n",
        "# Predict using the test set\n",
        "y_pred = model.predict(X_test)\n"
      ],
      "metadata": {
        "id": "7MaAaZKGomG8"
      },
      "execution_count": 37,
      "outputs": []
    },
    {
      "cell_type": "code",
      "source": [
        "evaluar_modelo(model,X_train, X_test, y_train, y_test)"
      ],
      "metadata": {
        "colab": {
          "base_uri": "https://localhost:8080/"
        },
        "id": "H-i1fvIfoqQu",
        "outputId": "44aa7ff3-a7d5-4c5f-839f-a3a9337bae35"
      },
      "execution_count": 38,
      "outputs": [
        {
          "output_type": "stream",
          "name": "stdout",
          "text": [
            "R² score on training data: -2995154389983640591949365248000.00\n",
            "R² score on test data: -2918938004966764848955177041920.00\n",
            "MSE on training data: 84753865053652145242780957933568.00\n",
            "MSE on test data: 76459292511626883005619283951616.00\n"
          ]
        }
      ]
    },
    {
      "cell_type": "markdown",
      "source": [
        "¿Su modelo presenta algún cambio?"
      ],
      "metadata": {
        "id": "IZMO_UzZsyus"
      }
    },
    {
      "cell_type": "markdown",
      "source": [
        "**Conclusión**\n",
        "Podemos observar en el MSE tiene valores altos lo que indica un error en predecir ventar, los datos no se ajustan correctamente, los R^2 son negativos lo que significa que las predicciones no tienen valor(no es capaz de predecir las ventas), estos resultados pésimos muestran que el método de gradiente descendiente estocastico no es apropiado para el modelo."
      ],
      "metadata": {
        "id": "8akkBNzWWcyJ"
      }
    },
    {
      "cell_type": "markdown",
      "source": [
        "## 3.3 Regularizacion"
      ],
      "metadata": {
        "id": "7oNZrrBCszvP"
      }
    },
    {
      "cell_type": "markdown",
      "source": [
        "Lasso L1 sin ajustar alpha"
      ],
      "metadata": {
        "id": "t_atrfYkubD_"
      }
    },
    {
      "cell_type": "code",
      "source": [
        "X_train, X_test, y_train, y_test = train_test_split(X, y, train_size=0.7, random_state=42)\n",
        "lasso = Lasso(alpha=0.1).fit(X_train, y_train)\n",
        "evaluar_modelo(model,X_train, X_test, y_train, y_test)"
      ],
      "metadata": {
        "colab": {
          "base_uri": "https://localhost:8080/"
        },
        "id": "Si5AufFas3i-",
        "outputId": "aec1877a-e128-40d2-8b28-e842ecb6e091"
      },
      "execution_count": 39,
      "outputs": [
        {
          "output_type": "stream",
          "name": "stdout",
          "text": [
            "R² score on training data: -3190869226237324216743359414272.00\n",
            "R² score on test data: -2583815394530765610263389405184.00\n",
            "MSE on training data: 83731573317781562509217077657600.00\n",
            "MSE on test data: 70550067353299695185169355898880.00\n"
          ]
        }
      ]
    },
    {
      "cell_type": "markdown",
      "source": [
        "Ajustando alpha"
      ],
      "metadata": {
        "id": "l394sN5Aud-6"
      }
    },
    {
      "cell_type": "code",
      "source": [
        "#Escalar datos (volver media 0 y desviación estándar 1)\n",
        "from sklearn.preprocessing import StandardScaler\n",
        "scaler = StandardScaler()\n",
        "X_train_scaled = scaler.fit_transform(X_train)\n",
        "X_test_scaled = scaler.transform(X_test)\n",
        "\n",
        "# Aplicar validación cruzada para mejorar alpha\n",
        "from sklearn.linear_model import LassoCV\n",
        "\n",
        "# Probar alphas\n",
        "lasso_cv_model = LassoCV(alphas=[0.01, 0.1, 1.0, 10.0], cv=5)\n",
        "lasso_cv_model.fit(X_train_scaled, y_train)\n",
        "\n",
        "# Obtener mejor alpha\n",
        "best_alpha = lasso_cv_model.alpha_\n",
        "print(f\"Best alpha: {best_alpha}\")\n",
        "\n",
        "# Evaluar modelo\n",
        "y_train_pred = lasso_cv_model.predict(X_train_scaled)\n",
        "y_test_pred = lasso_cv_model.predict(X_test_scaled)\n",
        "\n",
        "# Calcular R² y MSE\n",
        "from sklearn.metrics import r2_score, mean_squared_error\n",
        "train_r2 = r2_score(y_train, y_train_pred)\n",
        "test_r2 = r2_score(y_test, y_test_pred)\n",
        "train_mse = mean_squared_error(y_train, y_train_pred)\n",
        "test_mse = mean_squared_error(y_test, y_test_pred)\n",
        "\n",
        "print(f\"R² score on training data: {train_r2}\")\n",
        "print(f\"R² score on test data: {test_r2}\")\n",
        "print(f\"MSE on training data: {train_mse}\")\n",
        "print(f\"MSE on test data: {test_mse}\")\n"
      ],
      "metadata": {
        "colab": {
          "base_uri": "https://localhost:8080/"
        },
        "id": "bq_dzYGXtyX1",
        "outputId": "02a6ed28-1d37-4de3-9a5d-57c6b000367b"
      },
      "execution_count": 40,
      "outputs": [
        {
          "output_type": "stream",
          "name": "stdout",
          "text": [
            "Best alpha: 0.1\n",
            "R² score on training data: 0.904619504604502\n",
            "R² score on test data: 0.8646258647835885\n",
            "MSE on training data: 2.502878801056975\n",
            "MSE on test data: 3.696337740547821\n"
          ]
        }
      ]
    },
    {
      "cell_type": "markdown",
      "source": [
        ". ¿De qué forma afecta el desempeño del modelo usar un método de regularización?\n",
        "El uso del método de regularización Lasso (L1) impacta positivamente el desempeño del modelo al reducir el sobreajuste y mejorar la generalización. Inicialmente, sin ajustar el parámetro alpha, los resultados fueron inestables, con valores negativos de R² y errores cuadráticos medios (MSE) extremadamente altos, lo que sugiere un modelo incapaz de predecir correctamente. Sin embargo, tras escalar los datos y aplicar validación cruzada con LassoCV, se identificó un alpha óptimo de 0.1. Con este ajuste, el R^2 en los datos de entrenamiento y prueba alcanzó 0.90 y 0.86, respectivamente, mientras que los MSE disminuyeron a 2.50 y 3.69. Esto muestra que la regularización Lasso controla la complejidad del modelo al penalizar coeficientes irrelevantes, logrando así un equilibrio adecuado entre sesgo y varianza."
      ],
      "metadata": {
        "id": "EPuVuUjKXXeD"
      }
    },
    {
      "cell_type": "markdown",
      "source": [
        "## 3.4 Entrenamiento Personalizado\n",
        "Distribución: 70 train vs 30 test \\\\\n",
        "Optimización: Coordinate Descent \\\\\n",
        "Regularización: Lasso CV"
      ],
      "metadata": {
        "id": "-YBbJAjiuUFB"
      }
    },
    {
      "cell_type": "code",
      "source": [
        "from sklearn.model_selection import train_test_split\n",
        "from sklearn.preprocessing import StandardScaler\n",
        "from sklearn.linear_model import LassoCV\n",
        "from sklearn.metrics import r2_score, mean_squared_error\n",
        "\n",
        "# Paso 1: Dividir datos\n",
        "X_train, X_test, y_train, y_test = train_test_split(X, y, train_size=0.7, random_state=42)\n",
        "\n",
        "# Paso 2: Escalar datos (volver media 0 y desviación estándar 1)\n",
        "scaler = StandardScaler()\n",
        "X_train_scaled = scaler.fit_transform(X_train)\n",
        "X_test_scaled = scaler.transform(X_test)\n",
        "\n",
        "# Paso 3: Aplicar Lasso con validación cruzada\n",
        "lasso_cv_model = LassoCV(alphas=[0.01, 0.1, 1.0, 10.0], cv=5)\n",
        "lasso_cv_model.fit(X_train_scaled, y_train)\n",
        "\n",
        "# Obtener mejor alpha\n",
        "best_alpha = lasso_cv_model.alpha_\n",
        "print(f\"Best alpha: {best_alpha}\")\n",
        "\n",
        "\n"
      ],
      "metadata": {
        "colab": {
          "base_uri": "https://localhost:8080/"
        },
        "id": "dvd2iJJ_yiD3",
        "outputId": "d113334f-b707-41fb-b2c2-831c210fd806"
      },
      "execution_count": 41,
      "outputs": [
        {
          "output_type": "stream",
          "name": "stdout",
          "text": [
            "Best alpha: 0.1\n"
          ]
        }
      ]
    },
    {
      "cell_type": "code",
      "source": [
        "coefficients = lasso_cv_model.coef_\n",
        "intercept = lasso_cv_model.intercept_\n",
        "\n",
        "# Mostrar pesos/coeficientes e intercepto\n",
        "print(\"Coefficients:\", coefficients)\n",
        "print(\"Intercept:\", intercept)"
      ],
      "metadata": {
        "colab": {
          "base_uri": "https://localhost:8080/"
        },
        "id": "uQNHN-CZytag",
        "outputId": "c705ef9a-d783-4d34-d01c-d6e5836c5e30"
      },
      "execution_count": 42,
      "outputs": [
        {
          "output_type": "stream",
          "name": "stdout",
          "text": [
            "Coefficients: [3.59030605 2.83747278 0.06852482]\n",
            "Intercept: 14.497142857142858\n"
          ]
        }
      ]
    },
    {
      "cell_type": "markdown",
      "source": [
        "¿Cuál es el significado de la magnitud y signo de estos valores?\n",
        "\n",
        "El modelo entrenado utilizando una proporción del 70% para entrenamiento y 30% para prueba, optimizado mediante Coordinate Descent y con regularización LassoCV, arrojó un intercepto de 14.4971 y coeficientes [3.5903, 2.8375, 0.0685]. El intercepto indica el valor esperado de la variable objetivo cuando todas las variables predictoras tienen un valor de 0 (en su escala estandarizada). Los coeficientes reflejan la magnitud y el signo del impacto de cada predictor: un coeficiente positivo, como los observados (3.5903 y 2.8375), sugiere que un aumento en esas variables se traduce en un incremento en la respuesta. Por otro lado, el coeficiente cercano a cero (0.0685) indica que dicha variable tiene una influencia prácticamente nula en la predicción. En general, la regularización Lasso ha reducido algunos coeficientes, eliminando aquellos de menor relevancia, lo que hace que el modelo se más sencillo y menos propenso al sobreajuste."
      ],
      "metadata": {
        "id": "lWITal4mXlKn"
      }
    },
    {
      "cell_type": "markdown",
      "source": [
        "## 3.5 Evaluación"
      ],
      "metadata": {
        "id": "G-DPokuIxjIa"
      }
    },
    {
      "cell_type": "code",
      "source": [
        "# Paso 4: Evaluar con el mejor alpha\n",
        "y_train_pred = lasso_cv_model.predict(X_train_scaled)\n",
        "y_test_pred = lasso_cv_model.predict(X_test_scaled)\n",
        "\n",
        "# Calcular R² y MSE\n",
        "train_r2 = r2_score(y_train, y_train_pred)\n",
        "test_r2 = r2_score(y_test, y_test_pred)\n",
        "train_mse = mean_squared_error(y_train, y_train_pred)\n",
        "test_mse = mean_squared_error(y_test, y_test_pred)\n",
        "\n",
        "print(f\"R² score on training data: {train_r2:.2f}\")\n",
        "print(f\"R² score on test data: {test_r2:.2f}\")\n",
        "print(f\"MSE on training data: {train_mse:.2f}\")\n",
        "print(f\"MSE on test data: {test_mse:.2f}\")"
      ],
      "metadata": {
        "colab": {
          "base_uri": "https://localhost:8080/"
        },
        "id": "ee6Vb_xzzn6_",
        "outputId": "423c9238-b239-426a-b6bc-5a3da2709887"
      },
      "execution_count": 43,
      "outputs": [
        {
          "output_type": "stream",
          "name": "stdout",
          "text": [
            "R² score on training data: 0.90\n",
            "R² score on test data: 0.86\n",
            "MSE on training data: 2.50\n",
            "MSE on test data: 3.70\n"
          ]
        }
      ]
    },
    {
      "cell_type": "markdown",
      "source": [
        "¿Cómo se interpretan estos valores?\n",
        "El modelo entrenado con regularización Lasso logró un R² de 0.90 en el conjunto de entrenamiento y 0.86 en el de prueba, lo que indica que captura el 90% de la variabilidad en los datos de entrenamiento y el 86% en los de prueba, demostrando un buen equilibrio entre ajuste y generalización. Los MSE obtenidos, de 2.50 en entrenamiento y 3.70 en prueba, reflejan que los errores de predicción son bajos, lo que quiere decir que el modelo es preciso. La combinación óptima para invertir se encontró en televisión y radio, con mayor impacto en televisión, mientras que el coeficiente del periódico fue reducido a 0, destacando su baja relevancia en la predicción. Esto evidencia que la regularización Lasso fue efectiva en eliminar variables poco significativas y asi se logra mantener las más relevantes para el modelo."
      ],
      "metadata": {
        "id": "JEhdSEKKXxrQ"
      }
    },
    {
      "cell_type": "markdown",
      "source": [
        "# 4"
      ],
      "metadata": {
        "id": "WgmbiSe1xlBO"
      }
    },
    {
      "cell_type": "code",
      "source": [
        "def predicciones(tv, radio, newspaper, modelo):\n",
        "    tv_budget = tv\n",
        "    radio_budget = radio\n",
        "    newspaper_budget = newspaper\n",
        "\n",
        "    # Lista de variables independientes\n",
        "    new_data = [[tv_budget, radio_budget, newspaper_budget]]\n",
        "\n",
        "    # Realizar predicción\n",
        "    predicted_sales = modelo.predict(new_data)\n",
        "\n",
        "    print(f\"Predicted Sales: ${predicted_sales[0]:.2f}\")"
      ],
      "metadata": {
        "id": "CyjNn6kJv2Vv"
      },
      "execution_count": 44,
      "outputs": []
    },
    {
      "cell_type": "code",
      "source": [
        "predicciones(0,0,0,lasso_cv_model)"
      ],
      "metadata": {
        "colab": {
          "base_uri": "https://localhost:8080/"
        },
        "id": "h2s_RnxUz-R4",
        "outputId": "26782f21-4bdd-4722-c692-f6fe22ed22d1"
      },
      "execution_count": 45,
      "outputs": [
        {
          "output_type": "stream",
          "name": "stdout",
          "text": [
            "Predicted Sales: $14.50\n"
          ]
        }
      ]
    },
    {
      "cell_type": "code",
      "source": [
        "predicciones(1,0,0,lasso_cv_model) # invertir en TV"
      ],
      "metadata": {
        "colab": {
          "base_uri": "https://localhost:8080/"
        },
        "id": "r8JZ29kRX7JX",
        "outputId": "8aefe8fd-7ba6-4aa0-c713-8bea495e8606"
      },
      "execution_count": 46,
      "outputs": [
        {
          "output_type": "stream",
          "name": "stdout",
          "text": [
            "Predicted Sales: $18.09\n"
          ]
        }
      ]
    },
    {
      "cell_type": "code",
      "source": [
        "predicciones(0,1,0,lasso_cv_model) # invertir en Radio"
      ],
      "metadata": {
        "colab": {
          "base_uri": "https://localhost:8080/"
        },
        "id": "SZ2HvqVLX7d9",
        "outputId": "b3716b36-84ef-4927-a988-bc01dd2d9976"
      },
      "execution_count": 47,
      "outputs": [
        {
          "output_type": "stream",
          "name": "stdout",
          "text": [
            "Predicted Sales: $17.33\n"
          ]
        }
      ]
    },
    {
      "cell_type": "code",
      "source": [
        "predicciones(0,0,1,lasso_cv_model) # invertir en periódicos"
      ],
      "metadata": {
        "colab": {
          "base_uri": "https://localhost:8080/"
        },
        "id": "s8NHqId9X_ev",
        "outputId": "dca46da1-107e-4d07-d70e-8a89458cb687"
      },
      "execution_count": 48,
      "outputs": [
        {
          "output_type": "stream",
          "name": "stdout",
          "text": [
            "Predicted Sales: $14.57\n"
          ]
        }
      ]
    },
    {
      "cell_type": "markdown",
      "source": [
        "# Conclusiones"
      ],
      "metadata": {
        "id": "JvNQo4Vuxot0"
      }
    },
    {
      "cell_type": "markdown",
      "source": [
        "Podemos decir que la mejor estrategia de inversión es enfocarse en televisión y radio, siendo la televisión el medio más efectivo para aumentar las ventas. Invertir solo en televisión lleva las ventas de $\\$14.50$ a $\\$18.09$, mientras que con radio suben a $\\$17.33$. Por otro lado, los periódicos apenas generan un cambio, con las ventas pasando de $\\$14.50$ a $\\$14.57$, lo que indica que este medio tiene poco impacto en comparación con los otros, por ello podemos decir que el uso de la regularización Lasso ayudó a simplificar el modelo eliminando las variables menos importantes. Esto dejó claro que lo mejor es invertir en televisión y radio, enfocándose más en televisión, y evitar gastar recursos en periódicos, ya que no aportan mucho a las ventas."
      ],
      "metadata": {
        "id": "U0XbS95tYIUu"
      }
    },
    {
      "cell_type": "markdown",
      "source": [
        "#Referencias\n"
      ],
      "metadata": {
        "id": "V-YD3TLPY1iE"
      }
    },
    {
      "cell_type": "markdown",
      "source": [
        "https://www.kaggle.com/code/sheemamasood/sales-prediction-accuracy98"
      ],
      "metadata": {
        "id": "HKy6y7hIY23J"
      }
    }
  ]
}